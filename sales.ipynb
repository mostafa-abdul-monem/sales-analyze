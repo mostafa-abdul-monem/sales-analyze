{
 "cells": [
  {
   "cell_type": "code",
   "execution_count": 2,
   "metadata": {},
   "outputs": [],
   "source": [
    "import pandas as pd"
   ]
  },
  {
   "cell_type": "code",
   "execution_count": 25,
   "metadata": {},
   "outputs": [
    {
     "name": "stdout",
     "output_type": "stream",
     "text": [
      "****Check nulls start****\n",
      "\n",
      " Order ID       0\n",
      "Date           0\n",
      "Product        0\n",
      "Category       0\n",
      "Quantity       0\n",
      "Price          0\n",
      "Total Sales    0\n",
      "dtype: int64\n",
      "\n",
      "****Check End****\n"
     ]
    }
   ],
   "source": [
    "df = pd.read_csv(r\"D:\\DEBI\\python\\1st project dataset\\random_sales_data.csv\")\n",
    "df['Price'] = df['Price'].fillna(df[\"Price\"].mean())\n",
    "print(\"****Check nulls start****\\n\\n\",df.isnull().sum())\n",
    "print(\"\\n****Check End****\")"
   ]
  },
  {
   "cell_type": "code",
   "execution_count": 59,
   "metadata": {},
   "outputs": [
    {
     "name": "stdout",
     "output_type": "stream",
     "text": [
      "Total Orders : 87\n",
      "\n",
      "Total Revenue : 63521.95\n",
      "\n",
      "Average Product price: 490.24\n",
      "\n",
      "Number of Orders Per Category:\n",
      " Category\n",
      "Accessories    47\n",
      "Electronics    40\n",
      "\n",
      "Total Sales Per Category:\n",
      " Category\n",
      "Accessories    30800\n",
      "Electronics    28800\n",
      "\n",
      "The Precentage of Sales Categories:\n",
      " Sales Category\n",
      "Low     59.77\n",
      "High    40.23\n",
      "\n",
      "Total Sales Per Product:\n",
      " Product\n",
      "Cable          6400\n",
      "Charger        2500\n",
      "Headphones     9000\n",
      "Laptop         8000\n",
      "Pen            8400\n",
      "Phone         20800\n",
      "Protector      4500\n"
     ]
    }
   ],
   "source": [
    "print(f\"Total Orders : {df.shape[0]}\")\n",
    "\n",
    "totalRevenue = ((df['Quantity'] * df['Price']).sum()).round(2)\n",
    "print(f\"\\nTotal Revenue : {totalRevenue}\")\n",
    "\n",
    "avgPrice = (df['Price'].mean()).round(2)\n",
    "print(f\"\\nAverage Product price: {avgPrice}\")\n",
    "\n",
    "orderPerCategory = df.groupby('Category')['Order ID'].count()\n",
    "print(\"\\nNumber of Orders Per Category:\\n\",orderPerCategory.to_string())\n",
    "\n",
    "totalCatSales= df.groupby('Category')['Total Sales'].sum()\n",
    "print(\"\\nTotal Sales Per Category:\\n\",totalCatSales.to_string())\n",
    "\n",
    "threshold = df['Total Sales'].mean()\n",
    "df['Sales Category'] = df['Total Sales'].apply(lambda x:'High' if x >= threshold else 'Low')\n",
    "salesCatPrecentage = ((df['Sales Category'].value_counts() / len(df)) * 100).round(2)\n",
    "print('\\nThe Precentage of Sales Categories:\\n',salesCatPrecentage.to_string())\n",
    "\n",
    "totalProductSales = df.groupby('Product')['Total Sales'].sum()\n",
    "print(\"\\nTotal Sales Per Product:\\n\", totalProductSales.to_string())"
   ]
  },
  {
   "cell_type": "code",
   "execution_count": 65,
   "metadata": {},
   "outputs": [
    {
     "data": {
      "text/plain": [
       "<IntegerArray>\n",
       "[2, 2, 2, 2, 2]\n",
       "Length: 5, dtype: Int64"
      ]
     },
     "execution_count": 65,
     "metadata": {},
     "output_type": "execute_result"
    }
   ],
   "source": [
    "import pandas as np\n",
    "a=np.array([1,1,1,1,1]) \n",
    "\n",
    "a+1"
   ]
  },
  {
   "cell_type": "code",
   "execution_count": null,
   "metadata": {},
   "outputs": [],
   "source": []
  }
 ],
 "metadata": {
  "kernelspec": {
   "display_name": "Python 3",
   "language": "python",
   "name": "python3"
  },
  "language_info": {
   "codemirror_mode": {
    "name": "ipython",
    "version": 3
   },
   "file_extension": ".py",
   "mimetype": "text/x-python",
   "name": "python",
   "nbconvert_exporter": "python",
   "pygments_lexer": "ipython3",
   "version": "3.13.0"
  }
 },
 "nbformat": 4,
 "nbformat_minor": 2
}
